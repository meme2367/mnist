{
 "cells": [
  {
   "cell_type": "markdown",
   "metadata": {},
   "source": [
    "MNIST - Develop my first NN with Keras,Tensorflow\n",
    "\n",
    "Tensorflow\n",
    "1. Load Data.\n",
    "2. function for displaying a training image\n",
    "\n",
    "\n",
    "\n",
    "keras\n",
    "1. Load Data.\n",
    "2. function for displaying a training image\n",
    "3. Define Model\n",
    "4. Compile Model\n",
    "5. Fit Model\n",
    "6. Evaluate Model.\n",
    "7. Tie It All Together."
   ]
  },
  {
   "cell_type": "code",
   "execution_count": 81,
   "metadata": {},
   "outputs": [],
   "source": [
    "%matplotlib inline\n",
    "import tensorflow as tf\n",
    "import matplotlib.pyplot as plt\n",
    "import numpy as np\n",
    "from keras.models import Sequential\n",
    "from keras.layers import Dense\n",
    "from keras.datasets import mnist\n",
    "from tensorflow.examples.tutorials.mnist import input_data\n",
    "from random import randint\n",
    "from keras.utils import np_utils\n",
    "from keras.layers import Dense, Dropout, Flatten \n",
    "from keras.layers import Conv2D, MaxPooling2D \n",
    "from keras import backend as K  \n",
    "import keras"
   ]
  },
  {
   "cell_type": "code",
   "execution_count": 3,
   "metadata": {},
   "outputs": [
    {
     "name": "stdout",
     "output_type": "stream",
     "text": [
      "Extracting mnist/train-images-idx3-ubyte.gz\n",
      "Extracting mnist/train-labels-idx1-ubyte.gz\n",
      "Extracting mnist/t10k-images-idx3-ubyte.gz\n",
      "Extracting mnist/t10k-labels-idx1-ubyte.gz\n"
     ]
    }
   ],
   "source": [
    "###tensorflow##\n",
    "\n",
    "\n",
    "\n",
    "#load data\n",
    "\n",
    "mnist = input_data.read_data_sets(\"mnist/\",one_hot=True)\n",
    "\n",
    "#define placeholder\n",
    "x = tf.placeholder(tf.float32, shape=[None,784])\n",
    "y = tf.placeholder(tf.float32,shape=[None,10])\n"
   ]
  },
  {
   "cell_type": "code",
   "execution_count": 4,
   "metadata": {},
   "outputs": [],
   "source": [
    "#define weight, bias (softmax regression model)\n",
    "\n",
    "W = tf.Variable(tf.zeros([784,10]))\n",
    "b = tf.Variable(tf.zeros([10]))\n",
    "\n",
    "#start session\n",
    "sess = tf.InteractiveSession()\n",
    "sess.run(tf.global_variables_initializer())\n",
    "\n",
    "\n",
    "#regression model\n",
    "y_ = tf.nn.softmax(tf.matmul(x,W) + b)\n"
   ]
  },
  {
   "cell_type": "code",
   "execution_count": 5,
   "metadata": {},
   "outputs": [],
   "source": [
    "###train model###\n",
    "\n",
    "#cost function\n",
    "cross_entropy = tf.reduce_mean(-tf.reduce_sum(y* tf.log(y_), reduction_indices=[1]))\n",
    "\n",
    "#gradient descent\n",
    "train_step = tf.train.GradientDescentOptimizer(0.5).minimize(cross_entropy)\n"
   ]
  },
  {
   "cell_type": "code",
   "execution_count": 52,
   "metadata": {},
   "outputs": [
    {
     "name": "stdout",
     "output_type": "stream",
     "text": [
      "0.9176\n"
     ]
    }
   ],
   "source": [
    "# x None*784 == batch[0], y None*10 == batch[1]\n",
    "#batch[n] = [00000001110....00000 784개 , 1000000000 10개] \n",
    "\n",
    "\n",
    "for i in range(1000):\n",
    "  batch = mnist.train.next_batch(50)\n",
    "  # input trainig sample \n",
    "  train_step.run(feed_dict={x: batch[0], y: batch[1]})\n",
    "\n",
    "\n",
    "    \n",
    "###evaluate model(predict accuracy)##\n",
    "\n",
    "#tf.argmax = returning max index\n",
    "#값은 true/false 불리언 형태로 반환\n",
    "#[true, false, true,true]라면 1,0,1,1로 형변환되고 평균인 0.75가 예측 결과의 정확도가 된다.\n",
    "correct_prediction = tf.equal(tf.argmax(y_,1), tf.argmax(y,1))\n",
    "\n",
    "\n",
    "accuracy = tf.reduce_mean(tf.cast(correct_prediction, tf.float32))\n",
    "\n",
    "###test### \n",
    "print(accuracy.eval(feed_dict={x: mnist.test.images, y: mnist.test.labels}))\n"
   ]
  },
  {
   "cell_type": "code",
   "execution_count": 59,
   "metadata": {},
   "outputs": [],
   "source": [
    "def show_images(image, cls_true,cls_pred=None):\n",
    "    image = image.reshape(28,28)\n",
    "    plt.imshow(image,cmap=\"gray_r\")\n",
    "    plt.show()\n",
    "    \n",
    "    if cls_pred is None:\n",
    "        print(\"real digit:\",cls_true)\n",
    "    else:\n",
    "        print(\"real digit:\",cls_true,\"predicted digit\",cls_pred)\n",
    "                \n",
    "    "
   ]
  },
  {
   "cell_type": "code",
   "execution_count": 58,
   "metadata": {},
   "outputs": [
    {
     "data": {
      "image/png": "[encoded data removed]",
      "text/plain": [
       "<matplotlib.figure.Figure at 0x7ff38ffef080>"
      ]
     },
     "metadata": {},
     "output_type": "display_data"
    },
    {
     "name": "stdout",
     "output_type": "stream",
     "text": [
      "real digit: 7 predicted digit 7\n"
     ]
    }
   ],
   "source": [
    "\n",
    "rand = randint(0,10000)\n",
    "\n",
    "mnist.test.cls = np.array([label.argmax() for label in mnist.test.labels])\n",
    "#softmax한 y_c 최고값 = y_c\n",
    "y_c = tf.argmax(y_ ,1)\n",
    "#evaluation\n",
    "pred = y_c.eval(feed_dict={x: mnist.test.images, y: mnist.test.labels})\n",
    "\n",
    "show_images(mnist.test.images[rand],mnist.test.cls[rand],pred[rand])"
   ]
  }
 ],
 "metadata": {
  "anaconda-cloud": {},
  "kernelspec": {
   "display_name": "Python 3",
   "language": "python",
   "name": "python3"
  },
  "language_info": {
   "codemirror_mode": {
    "name": "ipython",
    "version": 3
   },
   "file_extension": ".py",
   "mimetype": "text/x-python",
   "name": "python",
   "nbconvert_exporter": "python",
   "pygments_lexer": "ipython3",
   "version": "3.4.5"
  }
 },
 "nbformat": 4,
 "nbformat_minor": 1
}
